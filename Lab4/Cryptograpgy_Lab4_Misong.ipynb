{
  "cells": [
    {
      "cell_type": "markdown",
      "metadata": {
        "id": "t1JSEFB2KETf"
      },
      "source": [
        "# Лабораторна робота 4. \n",
        "# Криптосистема RSA\n",
        "# Виконав студент 3-го курсу \n",
        "# Комп'ютерної математики 2 підгрупи\n",
        "# Місьонг Владислав Вікторович"
      ]
    },
    {
      "cell_type": "markdown",
      "metadata": {
        "id": "W1ynS32DKQIP"
      },
      "source": [
        "### Л4.1 - Реалiзуйте тест на простоту Мiллера-Рабiна. Для кожного тестового числа n бi-нарної довжини 512, або проведiть 100 тестувань, в яких отримується вiдповiдь “можливо просте”, або отримайте вiдповiдь “складене”. Для кожного тестування виведiть вiдповiдне випадкове число a."
      ]
    },
    {
      "cell_type": "code",
      "execution_count": 9,
      "metadata": {
        "id": "LjEWLdX0Ml9E"
      },
      "outputs": [],
      "source": [
        "import random\n",
        "from math import gcd"
      ]
    },
    {
      "cell_type": "code",
      "execution_count": 10,
      "metadata": {
        "id": "uT6P7MSZKBCi",
        "colab": {
          "base_uri": "https://localhost:8080/"
        },
        "outputId": "ec490bcc-6405-4baf-9c92-35c0ea18cf25"
      },
      "outputs": [
        {
          "output_type": "stream",
          "name": "stdout",
          "text": [
            "Число 6351550104410693902537302342412170301461343161312271317538270484506759588239495913581709380419684290022637585772298295445623129369225347274804856086385262 є складеним.\n"
          ]
        }
      ],
      "source": [
        "def is_prime(n, k=100):\n",
        "    \"\"\"\n",
        "    Перевіряє, чи є число простим за допомогою тесту Міллера-Рабіна.\n",
        "    \n",
        "    Аргументи:\n",
        "    - n: Число, яке перевіряється на простоту.\n",
        "    - k: Кількість тестів Міллера-Рабіна для виконання (за замовчуванням 100).\n",
        "    \n",
        "    Повертає:\n",
        "    - True, якщо число можливо просте.\n",
        "    - False, якщо число складене.\n",
        "    \"\"\"\n",
        "    if n <= 1:\n",
        "        return False\n",
        "    if n <= 3:\n",
        "        return True\n",
        "    if n % 2 == 0:\n",
        "        return False\n",
        "\n",
        "    # Представимо n-1 у вигляді (2^r) * d, де d непарне\n",
        "    r, d = 0, n - 1\n",
        "    while d % 2 == 0:\n",
        "        r += 1\n",
        "        d //= 2\n",
        "\n",
        "    # Виконуємо k тестів\n",
        "    for _ in range(k):\n",
        "        a = random.randint(2, n - 2)  # Генеруємо випадкове число a\n",
        "        x = pow(a, d, n)\n",
        "\n",
        "        if x == 1 or x == n - 1:\n",
        "            continue\n",
        "\n",
        "        for _ in range(r - 1):\n",
        "            x = pow(x, 2, n)\n",
        "            if x == n - 1:\n",
        "                break\n",
        "        else:\n",
        "            return False\n",
        "\n",
        "    return True\n",
        "\n",
        "\n",
        "# Тестування простоти\n",
        "n = random.getrandbits(512)  # Генеруємо випадкове число довжиною 512 біт\n",
        "is_prime_result = is_prime(n)\n",
        "\n",
        "if is_prime_result:\n",
        "    print(\"Число\", n, \"є можливо простим.\")\n",
        "else:\n",
        "    print(\"Число\", n, \"є складеним.\")"
      ]
    }
  ],
  "metadata": {
    "colab": {
      "provenance": []
    },
    "kernelspec": {
      "display_name": "Python 3",
      "name": "python3"
    },
    "language_info": {
      "name": "python"
    }
  },
  "nbformat": 4,
  "nbformat_minor": 0
}