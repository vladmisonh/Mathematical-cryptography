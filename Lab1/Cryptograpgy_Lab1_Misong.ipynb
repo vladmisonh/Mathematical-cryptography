{
  "cells": [
    {
      "cell_type": "markdown",
      "id": "d76b36b9",
      "metadata": {
        "id": "d76b36b9"
      },
      "source": [
        "# Лабораторна робота 1. \n",
        "# Шифр Вiженера. Частотний криптоаналiз\n",
        "# Виконав студент 3-го курсу \n",
        "# Комп'ютерної математики 2 підгрупи\n",
        "# Місьонг Владислав Вікторович\n"
      ]
    },
    {
      "cell_type": "code",
      "execution_count": 53,
      "id": "68ec4105",
      "metadata": {
        "id": "68ec4105"
      },
      "outputs": [],
      "source": [
        "import re\n",
        "import numpy as np\n",
        "import matplotlib.pyplot as plt\n",
        "import matplotlib.colors as mcolors\n",
        "\n",
        "from math import log10\n",
        "from collections import Counter\n",
        "from itertools import permutations"
      ]
    },
    {
      "cell_type": "markdown",
      "id": "ba7c8773",
      "metadata": {
        "id": "ba7c8773"
      },
      "source": [
        "## Л1.1 - Побудуйте гiстограму частот появи лiтер в текстi."
      ]
    },
    {
      "cell_type": "code",
      "execution_count": 54,
      "id": "3d131d8c",
      "metadata": {
        "id": "3d131d8c"
      },
      "outputs": [],
      "source": [
        "books = ['Vidmak.-Ostannie-bazhannia-Andzhiei-Sapkovskii.txt']"
      ]
    },
    {
      "cell_type": "markdown",
      "id": "223851cc",
      "metadata": {
        "id": "223851cc"
      },
      "source": [
        "### Прибираємо всі пробіли, пунктуацію та цифри з введенного тексту"
      ]
    },
    {
      "cell_type": "code",
      "execution_count": 56,
      "id": "648ab42d",
      "metadata": {
        "id": "648ab42d"
      },
      "outputs": [],
      "source": [
        "# Зібрати усі тексти зі списку книг у один рядок\n",
        "all_books = \"\"\n",
        "for book in books:\n",
        "    with open(book, encoding=\"utf8\") as f:\n",
        "        all_books += f.read()\n",
        "\n",
        "# Створити список допустимих символів\n",
        "allowed_chars = 'АБВГДЕЄЖЗИІЇЙКЛМНОПРСТУФХЦЧШЩЬЮЯҐ'\n",
        "\n",
        "# Видалити всі символи, які не є допустимими\n",
        "plain_text = ''.join(c for c in all_books.upper() if c in allowed_chars)"
      ]
    },
    {
      "cell_type": "markdown",
      "id": "cde48d37",
      "metadata": {
        "id": "cde48d37"
      },
      "source": [
        "<ul>\n",
        "    <li> <h3> Підраховуємо входження кожної літери в текст. На виході отримаємо словник, де ключ - це літера, а значення - кількість входжень</h3> </li>\n",
        "</ul>"
      ]
    },
    {
      "cell_type": "code",
      "execution_count": 57,
      "id": "fa1e79d9",
      "metadata": {
        "id": "fa1e79d9",
        "colab": {
          "base_uri": "https://localhost:8080/",
          "height": 472
        },
        "outputId": "2d705292-9ab0-45e4-8fae-f152c157f0aa"
      },
      "outputs": [
        {
          "output_type": "display_data",
          "data": {
            "text/plain": [
              "<Figure size 640x480 with 1 Axes>"
            ],
            "image/png": "[encoded data removed]"
          },
          "metadata": {}
        }
      ],
      "source": [
        "c = Counter(plain_text) #підрахунок кількості кожної літери в тексті\n",
        "\n",
        "total_letters = sum(c.values()) #загальна кількість літер\n",
        "\n",
        "relative_frequencies = {}\n",
        "for letter, count in c.items():\n",
        "    relative_frequencies[letter] = count / total_letters\n",
        "\n",
        "plt.bar(*zip(*relative_frequencies.items()), width = 0.6, color='tab:red', \n",
        "        edgecolor=\"tab:pink\", linewidth = 2) #генеруємо гістограму з отриманих відносних частот кожної літери\n",
        "\n",
        "plt.title(\"Гістрограма частот появи літер в тексті\")\n",
        "plt.xlabel(\"Літери\")\n",
        "plt.ylabel(\"Кількість\")\n",
        "\n",
        "plt.show()"
      ]
    },
    {
      "cell_type": "markdown",
      "id": "fef4960e",
      "metadata": {
        "id": "fef4960e"
      },
      "source": [
        "## Л1.2 - Реалiзуйте алгоритм шифрування Вiженера\n"
      ]
    },
    {
      "cell_type": "code",
      "execution_count": 58,
      "id": "966292b2",
      "metadata": {
        "id": "966292b2"
      },
      "outputs": [],
      "source": [
        "ukr_alphabet = \"АБВГҐДЕЄЖЗИІЇЙКЛМНОПРСТУФХЦЧШЩЬЮЯ\"\n",
        "\n",
        "def generate_key(message, key):   # Подовження ключа до довжини повідомлення\n",
        "    key = key * (len(message) // len(key)) + key[:len(message) % len(key)]\n",
        "    return key\n",
        "\n",
        "def encryption(plaintext, key):\n",
        "    key = generate_key(plaintext, key)  # Генерація ключа для шифрування\n",
        "    ciphertext = ''\n",
        "    \n",
        "    for i in range(len(plaintext)):\n",
        "        char = plaintext[i]\n",
        "        if char in ukr_alphabet:\n",
        "            char_index = (ukr_alphabet.index(char) + ukr_alphabet.index(key[i])) % len(ukr_alphabet)\n",
        "            ciphertext += ukr_alphabet[char_index]\n",
        "        else:\n",
        "            ciphertext += char\n",
        "    return ciphertext\n",
        "\n",
        "def decryption(ciphertext, key):\n",
        "    key = generate_key(ciphertext, key)  # Генерація ключа для дешифрування\n",
        "    plaintext = ''\n",
        "    \n",
        "    for i in range(len(ciphertext)):\n",
        "        char = ciphertext[i]\n",
        "        if char in ukr_alphabet:\n",
        "            char_index = (ukr_alphabet.index(char) - ukr_alphabet.index(key[i])) % len(ukr_alphabet)\n",
        "            plaintext += ukr_alphabet[char_index]\n",
        "        else:\n",
        "            plaintext += char\n",
        "    return plaintext"
      ]
    },
    {
      "cell_type": "code",
      "execution_count": 84,
      "id": "2443e6b1",
      "metadata": {
        "id": "2443e6b1",
        "colab": {
          "base_uri": "https://localhost:8080/"
        },
        "outputId": "ed6e5d63-88e7-4620-e137-01c0e2060806"
      },
      "outputs": [
        {
          "name": "stdout",
          "output_type": "stream",
          "text": [
            "Введіть текст для шифрування: Допомога кожному з нас\n",
            "Введіть ключ для шифрування: весна\n"
          ]
        }
      ],
      "source": [
        "plain_text = input(\"Введіть текст для шифрування: \")\n",
        "\n",
        "# Видаляємо з тексту всі символи, які не належать до українського алфавіту\n",
        "allowed_chars = 'АБВГДЕЄЖЗИІЇЙКЛМНОПРСТУФХЦЧШЩЬЮЯҐ'\n",
        "plain_text = ''.join(c for c in plain_text.upper() if c in allowed_chars)\n",
        "\n",
        "key = input(\"Введіть ключ для шифрування: \")\n",
        "\n",
        "# Перевіряємо, чи довжина ключа менша за довжину початкового повідомлення\n",
        "while(len(key) > len(plain_text)):\n",
        "    print(\"\\nДовжина ключа має бути менша за довжину початкового повідомлення\")\n",
        "    key = input(\"Введіть ключ для шифрування: \")"
      ]
    },
    {
      "cell_type": "code",
      "execution_count": 85,
      "id": "13a3ecff",
      "metadata": {
        "id": "13a3ecff",
        "colab": {
          "base_uri": "https://localhost:8080/"
        },
        "outputId": "d7c7f4f0-ffa4-4852-d046-cb93af60b4a1"
      },
      "outputs": [
        {
          "output_type": "stream",
          "name": "stdout",
          "text": [
            "Зашифрований текст: ЄФЄВМРЗСЮОИУЕАУІУСД\n",
            "Дешифрований текст: ДОПОМОГАКОЖНОМУЗНАС\n"
          ]
        }
      ],
      "source": [
        "plain_text = plain_text.upper()\n",
        "key = key.upper()\n",
        "\n",
        "cipher_text = encryption(plain_text, key)\n",
        "print(\"Зашифрований текст:\", cipher_text)\n",
        "\n",
        "deciphered_text = decryption(cipher_text, key)\n",
        "print(\"Дешифрований текст:\", deciphered_text)"
      ]
    },
    {
      "cell_type": "code",
      "execution_count": 86,
      "id": "916bbb2b",
      "metadata": {
        "id": "916bbb2b",
        "colab": {
          "base_uri": "https://localhost:8080/"
        },
        "outputId": "b104110b-41f1-4f62-dba9-f7f91c0360c5"
      },
      "outputs": [
        {
          "output_type": "stream",
          "name": "stdout",
          "text": [
            "ДОПОМОГАКОЖНОМУЗНАС ВЕСНА\n"
          ]
        }
      ],
      "source": [
        "print(plain_text, key)"
      ]
    },
    {
      "cell_type": "markdown",
      "source": [
        "##Л1.3 - Проведiть криптоаналiз шифру Вiженера i розшифруйте запропонований крипто-текст, не знаючи секретного ключа"
      ],
      "metadata": {
        "id": "6UCiNqPd_AjA"
      },
      "id": "6UCiNqPd_AjA"
    },
    {
      "cell_type": "markdown",
      "source": [
        "<ul>\n",
        "    <li> <h3> Описаний нижче метод виконується аналогічно до поданого варіанту у підказці до лабораторної роботи, тому я більш детально розібрав його, замінивши на українські матеріали</h3> </li>\n",
        "</ul>"
      ],
      "metadata": {
        "id": "-vjVLD6kIP-r"
      },
      "id": "-vjVLD6kIP-r"
    },
    {
      "cell_type": "code",
      "source": [
        "class ngram_score(object):\n",
        "    def __init__(self, ngramfile, sep=' '):\n",
        "        \"\"\"\n",
        "        Ініціалізація класу з використанням збережених n-грам.\n",
        "        \"\"\"\n",
        "\n",
        "        # Створення словника для збереження n-грам та їх кількості\n",
        "        self.ngrams = {}\n",
        "\n",
        "        # Відкриваємо файл з n-грамами та заповнюємо словник self.ngrams\n",
        "        with open(ngramfile, 'r', encoding='utf-8') as file:\n",
        "            for line in file:\n",
        "                # В рядку між ключем та значенням можуть бути табуляції, які ми замінюємо на пробіли\n",
        "                line = line.replace(\"\\t\", \" \")\n",
        "                # Розділяємо рядок на ключ та кількість зустрічей\n",
        "                key, count = line.split(sep)\n",
        "                # Зберігаємо ключ у словник та конвертуємо кількість зустрічей у числове значення\n",
        "                self.ngrams[key] = int(count)\n",
        "\n",
        "        # Зберігаємо довжину ключа\n",
        "        self.L = len(key)\n",
        "        # Знаходимо загальну кількість n-грам\n",
        "        self.N = sum(self.ngrams.values())\n",
        "\n",
        "        # Обчислюємо логарифмічне значення відносної частоти кожного n-граму та зберігаємо в словник self.ngrams\n",
        "        for key in self.ngrams.keys():\n",
        "            self.ngrams[key] = log10(float(self.ngrams[key]) / self.N)\n",
        "\n",
        "        # Зберігаємо підлогарифмічне значення мінімальної можливої частоти\n",
        "        self.floor = log10(0.01 / self.N)\n",
        "\n",
        "    def score(self,text):\n",
        "        \"\"\"\n",
        "        Функція score знаходить суму логарифмічних значень відносної частоти\n",
        "        n-грамів, що зустрічаються у тексті text.\n",
        "        \"\"\"\n",
        "        score = 0\n",
        "        # Завантаження функції __getitem__() для зручності використання\n",
        "        ngrams = self.ngrams.__getitem__\n",
        "        # Проходимо по усім підрядкам тексту довжиною self.L\n",
        "        for i in range(len(text)-self.L+1):\n",
        "            # Якщо n-грам знаходиться у словнику, додаємо\n",
        "            if text[i:i+self.L] in self.ngrams: score += ngrams(text[i:i+self.L])\n",
        "            else: score += self.floor          \n",
        "        return score"
      ],
      "metadata": {
        "id": "6BQjYgHkIOCE"
      },
      "id": "6BQjYgHkIOCE",
      "execution_count": 87,
      "outputs": []
    },
    {
      "cell_type": "code",
      "source": [
        "qgram = ngram_score('ua_quadragrams.txt') # об'єкт для розрахунку квадраграмів\n",
        "trigram = ngram_score('ua_triagrams.txt') # об'єкт для розрахунку триграмів\n",
        "ctext = cipher_text # зашифрований текст\n",
        "ctext = re.sub(r'[^А-ЩЬЮЯЄІЇҐ]','',ctext.upper()) # видалення з тексту символів, що не є українськими літерами"
      ],
      "metadata": {
        "id": "ghG02tE1IIPu"
      },
      "id": "ghG02tE1IIPu",
      "execution_count": 88,
      "outputs": []
    },
    {
      "cell_type": "code",
      "source": [
        "# клас для зберігання та вибірки n-найкращих результатів\n",
        "class nbest(object):\n",
        "    def __init__(self, N=1000):\n",
        "        self.store = []\n",
        "        self.N = N\n",
        "\n",
        "    # додавання нового елементу у список результатів\n",
        "    def add(self, item):\n",
        "        self.store.append(item)\n",
        "        self.store.sort(reverse=True)\n",
        "        self.store = self.store[:self.N]\n",
        "\n",
        "    # отримання елементу за індексом\n",
        "    def __getitem__(self, k):\n",
        "        return self.store[k]\n",
        "\n",
        "    # отримання довжини списку результатів\n",
        "    def __len__(self):\n",
        "        return len(self.store)\n",
        "\n",
        "\n",
        "N = 100 # константа для зберігання кількості найкращих результатів\n",
        "for KLEN in range(3, 20): # перебираємо довжину ключа від 3 до 19\n",
        "    rec = nbest(N) # створюємо об'єкт для зберігання n-найкращих результатів\n",
        "\n",
        "    # перебираємо всі можливі комбінації перших трьох символів ключа\n",
        "    for i in permutations('АБВГҐДЕЄЖЗИІЇЙКЛМНОПРСТУФХЦЧШЩЬЮЯ', 3):\n",
        "        key = ''.join(i) + 'А'*(KLEN-len(i)) # формуємо ключ довжиною KLEN\n",
        "        pt = decryption(ctext, key) # розшифровуємо текст за допомогою ключа\n",
        "        score = 0\n",
        "        # обчислюємо сумарний бал за триграми\n",
        "        for j in range(0, len(ctext), KLEN):\n",
        "            score += trigram.score(pt[j:j+3])\n",
        "        # додаємо результат у список n-найкращих\n",
        "        rec.add((score, ''.join(i), pt[:30]))\n",
        "\n",
        "    next_rec = nbest(N)\n",
        "    for i in range(0,KLEN-3):\n",
        "        # проходимо по всім ключам з rec і додаємо символ до кожного ключа \n",
        "        # з алфавіту 'АБВГҐДЕЄЖЗИІЇЙКЛМНОПРСТУФХЦЧШЩЬЮЯ'\n",
        "        for k in range(N):\n",
        "            for c in 'АБВГҐДЕЄЖЗИІЇЙКЛМНОПРСТУФХЦЧШЩЬЮЯ':\n",
        "                # формуємо повний ключ з попередньої ітерації та нового символу\n",
        "                key = rec[k][1] + c\n",
        "                fullkey = key + 'А'*(KLEN-len(key))\n",
        "                # дешифруємо текст за допомогою нового ключа\n",
        "                pt = decryption(ctext, fullkey)\n",
        "                score = 0\n",
        "                for j in range(0,len(ctext),KLEN):\n",
        "                    score += qgram.score(pt[j:j+len(key)])\n",
        "                # додаємо у next_rec кращі результати дешифрування\n",
        "                next_rec.add((score,key,pt[:30]))\n",
        "        rec = next_rec\n",
        "        next_rec = nbest(N)\n",
        "    # знаходимо кращий ключ\n",
        "    bestkey = rec[0][1]\n",
        "    pt = decryption(ctext, bestkey)\n",
        "    bestscore = qgram.score(pt)\n",
        "    for i in range(N):\n",
        "        pt = decryption(ctext, rec[i][1])\n",
        "        score = qgram.score(pt)\n",
        "        if score > bestscore:\n",
        "            bestkey = rec[i][1]\n",
        "            bestscore = score      \n",
        "    # виводимо результати\n",
        "    print('Найкращий скор:', bestscore, 'довжина ключа', KLEN,':\"'+ bestkey +'\",', decryption(ctext, bestkey))"
      ],
      "metadata": {
        "colab": {
          "base_uri": "https://localhost:8080/"
        },
        "id": "6rwjAvmbIiwI",
        "outputId": "d4bc8b02-f63d-4c98-87e1-2f9e1ed88fd6"
      },
      "id": "6rwjAvmbIiwI",
      "execution_count": 89,
      "outputs": [
        {
          "output_type": "stream",
          "name": "stdout",
          "text": [
            "Найкращий скор: -102.4216592920678 довжина ключа 3 :\"ФАР\", МФРІМАОСІЧИГЛАГРУБК\n",
            "Найкращий скор: -97.8974155650357 довжина ключа 4 :\"ЕОУС\", БЕНКИВПАХАРВАЛАУНГЛ\n",
            "Найкращий скор: -76.77084752930836 довжина ключа 5 :\"ВЕСНА\", ДОПОМОГАКОЖНОМУЗНАС\n",
            "Найкращий скор: -85.73580387253219 довжина ключа 6 :\"ХИТАДА\", ЛКОВІРНІЗОДУКУБІОСЙ\n",
            "Найкращий скор: -84.93685030165909 довжина ключа 7 :\"ДЮБАЕЕФ\", ВЦЕВИКОМАНИНАЗОЙТСЯ\n",
            "Найкращий скор: -77.36087735850076 довжина ключа 8 :\"ЩЄДЩЩРРІ\", ІНВЕРАТИВІДЧИЙГАЧКА\n",
            "Найкращий скор: -70.68641660899138 довжина ключа 9 :\"ВҐБСЮДФДЙ\", ДРЕКОЛОМОМЕТОВОРОЖГ\n",
            "Найкращий скор: -66.2765965561345 довжина ключа 10 :\"ВЕСЇБСҐСМЇ\", ДОПУЛЯДАЛЕЖНОСТУПАТ\n",
            "Найкращий скор: -61.260248890138115 довжина ключа 11 :\"АПУВТГЮАЗОС\", ЄДНАЧНІСТАТУРИСТРУД\n",
            "Найкращий скор: -62.50494104041687 довжина ключа 12 :\"ХЙДЗДОСФНАЧЇ\", ЛІВЦІВСЬКОМІКРОВОГН\n",
            "Найкращий скор: -54.98542460036218 довжина ключа 13 :\"ЮЕДВЯРЧФКАТБЕ\", ЗОВАНАЛЬНОСТАВНЕСТО\n",
            "Найкращий скор: -56.86862276786914 довжина ключа 14 :\"ҐФДВЯВЄИЦЯХСШШ\", ГАВАНОВІДПОВІДПРОПЕ\n",
            "Найкращий скор: -52.08950456599945 довжина ключа 15 :\"ФЙПДВВЄИЦЯХСШШҐ\", МІСЬКОВІДПОВІДПРИВА\n",
            "Найкращий скор: -51.61893164448857 довжина ключа 16 :\"СЕДФІГФАЗОЦДҐАЕЦ\", ПОВІДНОСТАНОВАНОВЛА\n",
            "Найкращий скор: -52.466816795280124 довжина ключа 17 :\"УФХДЯВСЯЮБХСЕМДЗЖ\", НАЛЬНОСТАНОВАНОВЛЮК\n",
            "Найкращий скор: -48.418718847591634 довжина ключа 18 :\"СЕДФІБФПРЙФДҐТОХДП\", ПОВІДПОВІДПОВІДПОВН\n",
            "Найкращий скор: -47.039270800774375 довжина ключа 19 :\"НИРВҐГСФНАЄДФЛСІЕҐЕ\", УКРАЇНСЬКОГОЛОВАННЯ\n"
          ]
        }
      ]
    }
  ],
  "metadata": {
    "kernelspec": {
      "display_name": "Python 3 (ipykernel)",
      "language": "python",
      "name": "python3"
    },
    "language_info": {
      "codemirror_mode": {
        "name": "ipython",
        "version": 3
      },
      "file_extension": ".py",
      "mimetype": "text/x-python",
      "name": "python",
      "nbconvert_exporter": "python",
      "pygments_lexer": "ipython3",
      "version": "3.11.1"
    },
    "colab": {
      "provenance": []
    }
  },
  "nbformat": 4,
  "nbformat_minor": 5
}