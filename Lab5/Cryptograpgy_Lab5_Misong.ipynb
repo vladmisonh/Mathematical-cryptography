{
  "nbformat": 4,
  "nbformat_minor": 0,
  "metadata": {
    "colab": {
      "provenance": []
    },
    "kernelspec": {
      "name": "python3",
      "display_name": "Python 3"
    },
    "language_info": {
      "name": "python"
    }
  },
  "cells": [
    {
      "cell_type": "markdown",
      "source": [
        "# Лабораторна робота 5. \n",
        "# Криптосистема Задача дискретного логарифма i протокол Дiффi-Хеллмана\n",
        "# Виконав студент 3-го курсу \n",
        "# Комп'ютерної математики 2 підгрупи\n",
        "# Місьонг Владислав Вікторович"
      ],
      "metadata": {
        "id": "9OqBCWTQRaV7"
      }
    },
    {
      "cell_type": "markdown",
      "source": [
        "### Л5.1 - Реалiзуйте алгоритм знаходження твiрного елемента a мультиплiкативної групи поля GF(p), p — непарне просте, бiнарна довжина якого не бiльша за 20."
      ],
      "metadata": {
        "id": "FRKWlDheRe_2"
      }
    },
    {
      "cell_type": "code",
      "source": [
        "import random"
      ],
      "metadata": {
        "id": "zBZTyR7hTni8"
      },
      "execution_count": 1,
      "outputs": []
    },
    {
      "cell_type": "code",
      "execution_count": 2,
      "metadata": {
        "colab": {
          "base_uri": "https://localhost:8080/"
        },
        "id": "LQCZu6W-RGdA",
        "outputId": "51a74d55-ef0f-469d-95e1-04ed7f99db97"
      },
      "outputs": [
        {
          "output_type": "stream",
          "name": "stdout",
          "text": [
            "Твірний елемент для поля GF( 925523 ): 2\n"
          ]
        }
      ],
      "source": [
        "def is_prime(n):\n",
        "    \"\"\"\n",
        "    Перевіряє, чи є число простим.\n",
        "    \"\"\"\n",
        "    if n <= 1:\n",
        "        return False\n",
        "    if n <= 3:\n",
        "        return True\n",
        "    if n % 2 == 0 or n % 3 == 0:\n",
        "        return False\n",
        "\n",
        "    i = 5\n",
        "    while i * i <= n:\n",
        "        if n % i == 0 or n % (i + 2) == 0:\n",
        "            return False\n",
        "        i += 6\n",
        "\n",
        "    return True\n",
        "\n",
        "def find_generator(p):\n",
        "    \"\"\"\n",
        "    Знаходить твірний елемент в мультиплікативній групі поля GF(p).\n",
        "    \"\"\"\n",
        "    a = 2\n",
        "    while True:\n",
        "        result = pow(a, p - 1, p)\n",
        "        if result == 1:\n",
        "            return a\n",
        "        a += 1\n",
        "\n",
        "# Згенеруємо непарне просте число p\n",
        "while True:\n",
        "    p = random.randint(2**19, 2**20 - 1)  # Генеруємо випадкове число бінарної довжини 20\n",
        "    if is_prime(p):\n",
        "        break\n",
        "\n",
        "generator = find_generator(p)\n",
        "print(\"Твірний елемент для поля GF(\", p, \"):\", generator)\n"
      ]
    },
    {
      "cell_type": "markdown",
      "source": [
        "### Л5.2 - Реалiзуйте алгоритм малих i великих крокiв розв’язування задачi дискретного логарифма в групi G = ⟨a⟩."
      ],
      "metadata": {
        "id": "fhHfbSQMUTx6"
      }
    },
    {
      "cell_type": "code",
      "source": [
        "def baby_step_giant_step(a, b, p):\n",
        "    m = int(p ** 0.5) + 1\n",
        "\n",
        "    # Обчислення списку малих кроків\n",
        "    small_steps = {}\n",
        "    for i in range(m):\n",
        "        small_steps[pow(a, i, p)] = i\n",
        "\n",
        "    # Обчислення великого кроку\n",
        "    n = pow(a, -m, p)\n",
        "\n",
        "    # Пошук спільного елемента у списку малих кроків та великих кроків\n",
        "    for j in range(m):\n",
        "        value = (b * pow(n, j, p)) % p\n",
        "        if value in small_steps:\n",
        "            i = small_steps[value]\n",
        "            x = i + j * m\n",
        "            return x\n",
        "\n",
        "    return None \n",
        "\n",
        "# Приклад використання\n",
        "a = 5  # Базисний елемент\n",
        "b = 9  # Цільовий елемент\n",
        "p = 23  # Порядок групи\n",
        "x = baby_step_giant_step(a, b, p)\n",
        "print(\"Дискретний логарифм:\", x)"
      ],
      "metadata": {
        "colab": {
          "base_uri": "https://localhost:8080/"
        },
        "id": "_v3354MpUaSx",
        "outputId": "22e717bb-af05-4a81-bb3d-10f8ae5eb944"
      },
      "execution_count": 10,
      "outputs": [
        {
          "output_type": "stream",
          "name": "stdout",
          "text": [
            "Дискретний логарифм: 10\n"
          ]
        }
      ]
    },
    {
      "cell_type": "markdown",
      "source": [
        "### Л5.3 - Реалiзуйте протокол Дiффi-Хеллмана на основi групи G."
      ],
      "metadata": {
        "id": "IEkAkp1KYJwG"
      }
    },
    {
      "cell_type": "code",
      "source": [
        "def diffie_hellman(G, g):\n",
        "    # Вибір випадкового секретного числа a та обчислення відкритого ключа A\n",
        "    a = random.randint(1, G-1)\n",
        "    A = pow(g, a, G)\n",
        "\n",
        "    # Вибір випадкового секретного числа b та обчислення відкритого ключа B\n",
        "    b = random.randint(1, G-1)\n",
        "    B = pow(g, b, G)\n",
        "\n",
        "    # Обчислення спільного секретного ключа\n",
        "    secret_key_A = pow(B, a, G)\n",
        "    secret_key_B = pow(A, b, G)\n",
        "\n",
        "    assert secret_key_A == secret_key_B\n",
        "\n",
        "    return secret_key_A\n",
        "\n",
        "G = 24  # Порядок групи\n",
        "g = 4   # Генератор групи\n",
        "\n",
        "secret_key = diffie_hellman(G, g)\n",
        "print(\"Спільний секретний ключ:\", secret_key)\n"
      ],
      "metadata": {
        "colab": {
          "base_uri": "https://localhost:8080/"
        },
        "id": "Gfw9vus8YhRE",
        "outputId": "c0291088-c882-49bf-9d0f-a2a3392d3f8c"
      },
      "execution_count": 12,
      "outputs": [
        {
          "output_type": "stream",
          "name": "stdout",
          "text": [
            "Спільний секретний ключ: 16\n"
          ]
        }
      ]
    }
  ]
}